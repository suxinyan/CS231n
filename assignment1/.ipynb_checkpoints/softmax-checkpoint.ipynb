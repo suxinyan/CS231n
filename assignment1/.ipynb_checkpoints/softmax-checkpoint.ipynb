{
 "cells": [
  {
   "cell_type": "markdown",
   "metadata": {},
   "source": [
    "# Softmax exercise\n",
    "\n",
    "*Complete and hand in this completed worksheet (including its outputs and any supporting code outside of the worksheet) with your assignment submission. For more details see the [assignments page](http://vision.stanford.edu/teaching/cs231n/assignments.html) on the course website.*\n",
    "\n",
    "This exercise is analogous to the SVM exercise. You will:\n",
    "\n",
    "- implement a fully-vectorized **loss function** for the Softmax classifier\n",
    "- implement the fully-vectorized expression for its **analytic gradient**\n",
    "- **check your implementation** with numerical gradient\n",
    "- use a validation set to **tune the learning rate and regularization** strength\n",
    "- **optimize** the loss function with **SGD**\n",
    "- **visualize** the final learned weights\n"
   ]
  },
  {
   "cell_type": "code",
   "execution_count": 12,
   "metadata": {},
   "outputs": [
    {
     "name": "stdout",
     "output_type": "stream",
     "text": [
      "The autoreload extension is already loaded. To reload it, use:\n",
      "  %reload_ext autoreload\n"
     ]
    }
   ],
   "source": [
    "import random\n",
    "import numpy as np\n",
    "from cs231n.data_utils import load_CIFAR10\n",
    "import matplotlib.pyplot as plt\n",
    "%matplotlib inline\n",
    "plt.rcParams['figure.figsize'] = (10.0, 8.0) # set default size of plots\n",
    "plt.rcParams['image.interpolation'] = 'nearest'\n",
    "plt.rcParams['image.cmap'] = 'gray'\n",
    "\n",
    "# for auto-reloading extenrnal modules\n",
    "# see http://stackoverflow.com/questions/1907993/autoreload-of-modules-in-ipython\n",
    "%load_ext autoreload\n",
    "%autoreload 2"
   ]
  },
  {
   "cell_type": "code",
   "execution_count": 13,
   "metadata": {},
   "outputs": [
    {
     "name": "stdout",
     "output_type": "stream",
     "text": [
      "Train data shape:  (49000, 3073)\n",
      "Train labels shape:  (49000,)\n",
      "Validation data shape:  (1000, 3073)\n",
      "Validation labels shape:  (1000,)\n",
      "Test data shape:  (1000, 3073)\n",
      "Test labels shape:  (1000,)\n",
      "dev data shape:  (500, 3073)\n",
      "dev labels shape:  (500,)\n"
     ]
    }
   ],
   "source": [
    "def get_CIFAR10_data(num_training=49000, num_validation=1000, num_test=1000, num_dev=500):\n",
    "  \"\"\"\n",
    "  Load the CIFAR-10 dataset from disk and perform preprocessing to prepare\n",
    "  it for the linear classifier. These are the same steps as we used for the\n",
    "  SVM, but condensed to a single function.  \n",
    "  \"\"\"\n",
    "  # Load the raw CIFAR-10 data\n",
    "  cifar10_dir = 'cs231n/datasets/cifar-10-batches-py'\n",
    "  X_train, y_train, X_test, y_test = load_CIFAR10(cifar10_dir)\n",
    "  \n",
    "  # subsample the data\n",
    "  mask = range(num_training, num_training + num_validation)\n",
    "  X_val = X_train[mask]\n",
    "  y_val = y_train[mask]\n",
    "  mask = range(num_training)\n",
    "  X_train = X_train[mask]\n",
    "  y_train = y_train[mask]\n",
    "  mask = range(num_test)\n",
    "  X_test = X_test[mask]\n",
    "  y_test = y_test[mask]\n",
    "  mask = np.random.choice(num_training, num_dev, replace=False)\n",
    "  X_dev = X_train[mask]\n",
    "  y_dev = y_train[mask]\n",
    "  \n",
    "  # Preprocessing: reshape the image data into rows\n",
    "  X_train = np.reshape(X_train, (X_train.shape[0], -1)) # 将像素排成一行\n",
    "  X_val = np.reshape(X_val, (X_val.shape[0], -1))\n",
    "  X_test = np.reshape(X_test, (X_test.shape[0], -1))\n",
    "  X_dev = np.reshape(X_dev, (X_dev.shape[0], -1))\n",
    "  \n",
    "  # Normalize the data: subtract the mean image\n",
    "  mean_image = np.mean(X_train, axis = 0) # 图像正则化\n",
    "  X_train -= mean_image\n",
    "  X_val -= mean_image\n",
    "  X_test -= mean_image\n",
    "  X_dev -= mean_image\n",
    "  \n",
    "  # add bias dimension and transform into columns\n",
    "  X_train = np.hstack([X_train, np.ones((X_train.shape[0], 1))]) # 增加偏置\n",
    "  X_val = np.hstack([X_val, np.ones((X_val.shape[0], 1))])\n",
    "  X_test = np.hstack([X_test, np.ones((X_test.shape[0], 1))])\n",
    "  X_dev = np.hstack([X_dev, np.ones((X_dev.shape[0], 1))])\n",
    "  \n",
    "  return X_train, y_train, X_val, y_val, X_test, y_test, X_dev, y_dev\n",
    "\n",
    "\n",
    "# Invoke the above function to get our data.\n",
    "X_train, y_train, X_val, y_val, X_test, y_test, X_dev, y_dev = get_CIFAR10_data()\n",
    "print('Train data shape: ', X_train.shape)\n",
    "print('Train labels shape: ', y_train.shape)\n",
    "print('Validation data shape: ', X_val.shape)\n",
    "print('Validation labels shape: ', y_val.shape)\n",
    "print('Test data shape: ', X_test.shape)\n",
    "print('Test labels shape: ', y_test.shape)\n",
    "print('dev data shape: ', X_dev.shape)\n",
    "print('dev labels shape: ', y_dev.shape)"
   ]
  },
  {
   "cell_type": "markdown",
   "metadata": {},
   "source": [
    "## Softmax Classifier\n",
    "\n",
    "Your code for this section will all be written inside **cs231n/classifiers/softmax.py**. \n"
   ]
  },
  {
   "cell_type": "code",
   "execution_count": 14,
   "metadata": {},
   "outputs": [
    {
     "name": "stdout",
     "output_type": "stream",
     "text": [
      "loss: 2.384393\n",
      "sanity check: 2.302585\n"
     ]
    }
   ],
   "source": [
    "# First implement the naive softmax loss function with nested loops.\n",
    "# Open the file cs231n/classifiers/softmax.py and implement the\n",
    "# softmax_loss_naive function.\n",
    "\n",
    "from cs231n.classifiers.softmax import softmax_loss_naive\n",
    "import time\n",
    "\n",
    "# Generate a random softmax weight matrix and use it to compute the loss.\n",
    "W = np.random.randn(3073, 10) * 0.0001 # 随机初始化权重矩阵\n",
    "loss, grad = softmax_loss_naive(W, X_dev, y_dev, 0.0)\n",
    "\n",
    "# As a rough sanity check, our loss should be something close to -log(0.1).\n",
    "print('loss: %f' % loss)\n",
    "print('sanity check: %f' % (-np.log(0.1)))"
   ]
  },
  {
   "cell_type": "markdown",
   "metadata": {},
   "source": [
    "## Inline Question 1:\n",
    "Why do we expect our loss to be close to -log(0.1)? Explain briefly.**\n",
    "\n",
    "**Your answer:** *因为W是随机生成的，正确的概率就应该是0.1左右，prob=0.1左右，所以交叉熵损失为-log(0.1)，loss / num_train归一化了*\n"
   ]
  },
  {
   "cell_type": "code",
   "execution_count": 15,
   "metadata": {},
   "outputs": [
    {
     "name": "stdout",
     "output_type": "stream",
     "text": [
      "numerical: 1.626358 analytic: 1.626358, relative error: 1.070282e-08\n",
      "numerical: -0.863031 analytic: -0.863031, relative error: 2.844786e-08\n",
      "numerical: -3.684688 analytic: -3.684689, relative error: 2.445765e-08\n",
      "numerical: 2.024206 analytic: 2.024206, relative error: 5.814761e-08\n",
      "numerical: 1.297834 analytic: 1.297834, relative error: 8.332820e-09\n",
      "numerical: -3.327024 analytic: -3.327024, relative error: 2.485530e-08\n",
      "numerical: 2.934446 analytic: 2.934446, relative error: 1.601280e-08\n",
      "numerical: -0.302985 analytic: -0.302985, relative error: 1.485914e-08\n",
      "numerical: -1.455883 analytic: -1.455883, relative error: 8.215174e-09\n",
      "numerical: -1.110119 analytic: -1.110119, relative error: 1.388476e-08\n",
      "numerical: -0.069540 analytic: -0.069541, relative error: 5.896396e-07\n",
      "numerical: 1.091374 analytic: 1.091374, relative error: 5.994565e-08\n",
      "numerical: -2.146532 analytic: -2.146532, relative error: 2.367032e-09\n",
      "numerical: 0.972799 analytic: 0.972799, relative error: 3.420410e-08\n",
      "numerical: 0.889613 analytic: 0.889613, relative error: 4.351935e-08\n",
      "numerical: -0.732175 analytic: -0.732175, relative error: 8.949356e-09\n",
      "numerical: -6.541659 analytic: -6.541659, relative error: 4.555266e-09\n",
      "numerical: 0.553509 analytic: 0.553509, relative error: 6.183131e-08\n",
      "numerical: -0.922009 analytic: -0.922009, relative error: 4.144104e-09\n",
      "numerical: -1.410115 analytic: -1.410115, relative error: 5.088037e-09\n"
     ]
    }
   ],
   "source": [
    "# Complete the implementation of softmax_loss_naive and implement a (naive)\n",
    "# version of the gradient that uses nested loops.\n",
    "loss, grad = softmax_loss_naive(W, X_dev, y_dev, 0.0) # 没有正则化\n",
    "\n",
    "# As we did for the SVM, use numeric gradient checking as a debugging tool.\n",
    "# The numeric gradient should be close to the analytic gradient.\n",
    "from cs231n.gradient_check import grad_check_sparse\n",
    "f = lambda w: softmax_loss_naive(w, X_dev, y_dev, 0.0)[0]\n",
    "grad_numerical = grad_check_sparse(f, W, grad, 10) # 用数值梯度检验分析梯度\n",
    "\n",
    "# similar to SVM case, do another gradient check with regularization\n",
    "loss, grad = softmax_loss_naive(W, X_dev, y_dev, 1e2) # 正则化系数为1e2\n",
    "f = lambda w: softmax_loss_naive(w, X_dev, y_dev, 1e2)[0]\n",
    "grad_numerical = grad_check_sparse(f, W, grad, 10)"
   ]
  },
  {
   "cell_type": "code",
   "execution_count": 16,
   "metadata": {},
   "outputs": [
    {
     "name": "stdout",
     "output_type": "stream",
     "text": [
      "naive loss: 2.384393e+00 computed in 0.158347s\n",
      "vectorized loss: 2.384393e+00 computed in 0.009063s\n",
      "Loss difference: 0.000000\n",
      "Gradient difference: 0.000000\n"
     ]
    }
   ],
   "source": [
    "# Now that we have a naive implementation of the softmax loss function and its gradient,\n",
    "# implement a vectorized version in softmax_loss_vectorized.\n",
    "# The two versions should compute the same results, but the vectorized version should be\n",
    "# much faster.\n",
    "tic = time.time()\n",
    "loss_naive, grad_naive = softmax_loss_naive(W, X_dev, y_dev, 0.00001)\n",
    "toc = time.time()\n",
    "print('naive loss: %e computed in %fs' % (loss_naive, toc - tic))\n",
    "\n",
    "from cs231n.classifiers.softmax import softmax_loss_vectorized\n",
    "tic = time.time()\n",
    "loss_vectorized, grad_vectorized = softmax_loss_vectorized(W, X_dev, y_dev, 0.00001)\n",
    "toc = time.time()\n",
    "print('vectorized loss: %e computed in %fs' % (loss_vectorized, toc - tic))\n",
    "\n",
    "# As we did for the SVM, we use the Frobenius norm to compare the two versions\n",
    "# of the gradient.\n",
    "grad_difference = np.linalg.norm(grad_naive - grad_vectorized, ord='fro')\n",
    "print('Loss difference: %f' % np.abs(loss_naive - loss_vectorized))\n",
    "print('Gradient difference: %f' % grad_difference)"
   ]
  },
  {
   "cell_type": "code",
   "execution_count": 17,
   "metadata": {},
   "outputs": [
    {
     "name": "stdout",
     "output_type": "stream",
     "text": [
      "lr 1.000000e-07 reg 7.000000e+03 train accuracy: 0.367143 val accuracy: 0.380000\n",
      "lr 1.000000e-07 reg 8.000000e+03 train accuracy: 0.359694 val accuracy: 0.371000\n",
      "lr 1.000000e-07 reg 9.000000e+03 train accuracy: 0.360673 val accuracy: 0.375000\n",
      "lr 1.000000e-07 reg 1.000000e+04 train accuracy: 0.358204 val accuracy: 0.370000\n",
      "lr 1.000000e-07 reg 1.100000e+04 train accuracy: 0.354796 val accuracy: 0.371000\n",
      "lr 1.000000e-07 reg 1.200000e+04 train accuracy: 0.350837 val accuracy: 0.363000\n",
      "lr 1.000000e-07 reg 1.300000e+04 train accuracy: 0.353837 val accuracy: 0.370000\n",
      "lr 1.000000e-07 reg 4.700000e+04 train accuracy: 0.307980 val accuracy: 0.324000\n",
      "lr 1.000000e-07 reg 4.800000e+04 train accuracy: 0.307796 val accuracy: 0.318000\n",
      "lr 1.000000e-07 reg 4.900000e+04 train accuracy: 0.308714 val accuracy: 0.327000\n",
      "lr 1.000000e-07 reg 5.000000e+04 train accuracy: 0.310490 val accuracy: 0.328000\n",
      "lr 1.000000e-07 reg 5.100000e+04 train accuracy: 0.307939 val accuracy: 0.321000\n",
      "lr 1.000000e-07 reg 5.200000e+04 train accuracy: 0.309327 val accuracy: 0.321000\n",
      "lr 1.000000e-07 reg 5.300000e+04 train accuracy: 0.304776 val accuracy: 0.328000\n",
      "lr 2.000000e-07 reg 7.000000e+03 train accuracy: 0.364510 val accuracy: 0.373000\n",
      "lr 2.000000e-07 reg 8.000000e+03 train accuracy: 0.364020 val accuracy: 0.381000\n",
      "lr 2.000000e-07 reg 9.000000e+03 train accuracy: 0.360347 val accuracy: 0.379000\n",
      "lr 2.000000e-07 reg 1.000000e+04 train accuracy: 0.352469 val accuracy: 0.365000\n",
      "lr 2.000000e-07 reg 1.100000e+04 train accuracy: 0.351041 val accuracy: 0.358000\n",
      "lr 2.000000e-07 reg 1.200000e+04 train accuracy: 0.354490 val accuracy: 0.374000\n",
      "lr 2.000000e-07 reg 1.300000e+04 train accuracy: 0.348347 val accuracy: 0.367000\n",
      "lr 2.000000e-07 reg 4.700000e+04 train accuracy: 0.313245 val accuracy: 0.326000\n",
      "lr 2.000000e-07 reg 4.800000e+04 train accuracy: 0.306673 val accuracy: 0.320000\n",
      "lr 2.000000e-07 reg 4.900000e+04 train accuracy: 0.306571 val accuracy: 0.319000\n",
      "lr 2.000000e-07 reg 5.000000e+04 train accuracy: 0.307306 val accuracy: 0.327000\n",
      "lr 2.000000e-07 reg 5.100000e+04 train accuracy: 0.314163 val accuracy: 0.325000\n",
      "lr 2.000000e-07 reg 5.200000e+04 train accuracy: 0.303612 val accuracy: 0.317000\n",
      "lr 2.000000e-07 reg 5.300000e+04 train accuracy: 0.307469 val accuracy: 0.328000\n",
      "lr 5.000000e-07 reg 7.000000e+03 train accuracy: 0.362816 val accuracy: 0.369000\n",
      "lr 5.000000e-07 reg 8.000000e+03 train accuracy: 0.359367 val accuracy: 0.370000\n",
      "lr 5.000000e-07 reg 9.000000e+03 train accuracy: 0.355612 val accuracy: 0.362000\n",
      "lr 5.000000e-07 reg 1.000000e+04 train accuracy: 0.359592 val accuracy: 0.361000\n",
      "lr 5.000000e-07 reg 1.100000e+04 train accuracy: 0.342286 val accuracy: 0.354000\n",
      "lr 5.000000e-07 reg 1.200000e+04 train accuracy: 0.349551 val accuracy: 0.355000\n",
      "lr 5.000000e-07 reg 1.300000e+04 train accuracy: 0.349061 val accuracy: 0.356000\n",
      "lr 5.000000e-07 reg 4.700000e+04 train accuracy: 0.315265 val accuracy: 0.327000\n",
      "lr 5.000000e-07 reg 4.800000e+04 train accuracy: 0.304082 val accuracy: 0.319000\n",
      "lr 5.000000e-07 reg 4.900000e+04 train accuracy: 0.299816 val accuracy: 0.314000\n",
      "lr 5.000000e-07 reg 5.000000e+04 train accuracy: 0.297980 val accuracy: 0.313000\n",
      "lr 5.000000e-07 reg 5.100000e+04 train accuracy: 0.292878 val accuracy: 0.303000\n",
      "lr 5.000000e-07 reg 5.200000e+04 train accuracy: 0.294204 val accuracy: 0.310000\n",
      "lr 5.000000e-07 reg 5.300000e+04 train accuracy: 0.286551 val accuracy: 0.303000\n",
      "best validation accuracy achieved during cross-validation: 0.381000\n"
     ]
    }
   ],
   "source": [
    "# Use the validation set to tune hyperparameters (regularization strength and\n",
    "# learning rate). You should experiment with different ranges for the learning\n",
    "# rates and regularization strengths; if you are careful you should be able to\n",
    "# get a classification accuracy of over 0.35 on the validation set.\n",
    "from cs231n.classifiers import Softmax\n",
    "results = {}\n",
    "best_val = -1\n",
    "best_softmax = None\n",
    "learning_rates = [1e-7, 2e-7, 5e-7]\n",
    "regularization_strengths =[(1+0.1*i)*1e4 for i in range(-3,4)] + [(5+0.1*i)*1e4 for i in range(-3,4)]\n",
    "# 数字太大导致overflow，所以根据别人的代码进行更改（和SVM一样都更改了）\n",
    "# regularization_strengths = [5e4, 1e8]\n",
    "\n",
    "################################################################################\n",
    "# TODO:                                                                        #\n",
    "# Use the validation set to set the learning rate and regularization strength. #\n",
    "# This should be identical to the validation that you did for the SVM; save    #\n",
    "# the best trained softmax classifer in best_softmax.                          #\n",
    "################################################################################\n",
    "# 和SVM的超参数选择类似\n",
    "for lr in learning_rates:\n",
    "    for reg in regularization_strengths:\n",
    "        softmax = Softmax()\n",
    "        softmax.train(X_train, y_train, lr, reg, num_iters=3000) # SGD\n",
    "        y_train_pred = softmax.predict(X_train)\n",
    "        train_accuracy = np.mean(y_train == y_train_pred)\n",
    "        y_val_pred = softmax.predict(X_val)\n",
    "        val_accuracy = np.mean(y_val == y_val_pred)\n",
    "        if val_accuracy > best_val:\n",
    "            best_val = val_accuracy\n",
    "            best_softmax = softmax\n",
    "        results[(lr, reg)] = train_accuracy, val_accuracy\n",
    "################################################################################\n",
    "#                              END OF YOUR CODE                                #\n",
    "################################################################################\n",
    "    \n",
    "# Print out results.\n",
    "for lr, reg in sorted(results):\n",
    "    train_accuracy, val_accuracy = results[(lr, reg)]\n",
    "    print('lr %e reg %e train accuracy: %f val accuracy: %f' % (\n",
    "                lr, reg, train_accuracy, val_accuracy))\n",
    "    \n",
    "print('best validation accuracy achieved during cross-validation: %f' % best_val)"
   ]
  },
  {
   "cell_type": "code",
   "execution_count": 18,
   "metadata": {},
   "outputs": [
    {
     "name": "stdout",
     "output_type": "stream",
     "text": [
      "softmax on raw pixels final test set accuracy: 0.372000\n"
     ]
    }
   ],
   "source": [
    "# evaluate on test set\n",
    "# Evaluate the best softmax on test set\n",
    "y_test_pred = best_softmax.predict(X_test)\n",
    "test_accuracy = np.mean(y_test == y_test_pred)\n",
    "print('softmax on raw pixels final test set accuracy: %f' % (test_accuracy, ))"
   ]
  },
  {
   "cell_type": "code",
   "execution_count": 19,
   "metadata": {},
   "outputs": [
    {
     "data": {
      "image/png": "[encoded data removed]",
      "text/plain": [
       "<matplotlib.figure.Figure at 0x181852b0f0>"
      ]
     },
     "metadata": {},
     "output_type": "display_data"
    }
   ],
   "source": [
    "# Visualize the learned weights for each class\n",
    "w = best_softmax.W[:-1,:] # strip out the bias\n",
    "w = w.reshape(32, 32, 3, 10)\n",
    "\n",
    "w_min, w_max = np.min(w), np.max(w)\n",
    "\n",
    "classes = ['plane', 'car', 'bird', 'cat', 'deer', 'dog', 'frog', 'horse', 'ship', 'truck']\n",
    "for i in range(10):\n",
    "  plt.subplot(2, 5, i + 1)\n",
    "  \n",
    "  # Rescale the weights to be between 0 and 255\n",
    "  wimg = 255.0 * (w[:, :, :, i].squeeze() - w_min) / (w_max - w_min)\n",
    "  plt.imshow(wimg.astype('uint8'))\n",
    "  plt.axis('off')\n",
    "  plt.title(classes[i])"
   ]
  }
 ],
 "metadata": {
  "kernelspec": {
   "display_name": "Python 3",
   "language": "python",
   "name": "python3"
  },
  "language_info": {
   "codemirror_mode": {
    "name": "ipython",
    "version": 3
   },
   "file_extension": ".py",
   "mimetype": "text/x-python",
   "name": "python",
   "nbconvert_exporter": "python",
   "pygments_lexer": "ipython3",
   "version": "3.6.4"
  }
 },
 "nbformat": 4,
 "nbformat_minor": 1
}
